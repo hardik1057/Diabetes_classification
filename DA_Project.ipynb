{
  "nbformat": 4,
  "nbformat_minor": 0,
  "metadata": {
    "colab": {
      "provenance": [],
      "include_colab_link": true
    },
    "kernelspec": {
      "name": "python3",
      "display_name": "Python 3"
    },
    "language_info": {
      "name": "python"
    }
  },
  "cells": [
    {
      "cell_type": "markdown",
      "metadata": {
        "id": "view-in-github",
        "colab_type": "text"
      },
      "source": [
        "<a href=\"https://colab.research.google.com/github/hardik1057/Diabetes_classification/blob/main/DA_Project.ipynb\" target=\"_parent\"><img src=\"https://colab.research.google.com/assets/colab-badge.svg\" alt=\"Open In Colab\"/></a>"
      ]
    },
    {
      "cell_type": "markdown",
      "source": [
        "##Imports"
      ],
      "metadata": {
        "id": "9PzXkBLg5enp"
      }
    },
    {
      "cell_type": "code",
      "source": [
        "import pandas as pd\n",
        "import numpy as np\n",
        "from sklearn.model_selection import train_test_split\n",
        "from sklearn.naive_bayes import GaussianNB\n",
        "from sklearn.tree import DecisionTreeClassifier\n",
        "from sklearn import svm\n",
        "from sklearn.neighbors import KNeighborsClassifier\n",
        "from sklearn.metrics import accuracy_score\n",
        "from sklearn.preprocessing import StandardScaler\n",
        "from sklearn.impute import SimpleImputer\n",
        "from sklearn.preprocessing import LabelEncoder"
      ],
      "metadata": {
        "id": "nBAcW5428L5n"
      },
      "execution_count": null,
      "outputs": []
    },
    {
      "cell_type": "markdown",
      "source": [
        "##DATASET-1"
      ],
      "metadata": {
        "id": "rpW25pwkK397"
      }
    },
    {
      "cell_type": "code",
      "source": [
        "file_path1 = \"13pV5aLUUdeJ_BtluVIRzSXGAKikbXh_o\"\n",
        "url1 = f\"https://drive.google.com/uc?export=download&id={file_path1}\"\n",
        "data1 = pd.read_csv(url1)\n",
        "print(data1)\n",
        "\n",
        "X = data1[['Pregnancies', 'Glucose', 'BloodPressure', 'SkinThickness', 'Insulin', 'BMI', 'DiabetesPedigreeFunction', 'Age']]\n",
        "y = data1['Outcome']\n",
        "\n",
        "# Standardize the features\n",
        "scaler = StandardScaler()\n",
        "scaler.fit(X)\n",
        "standarized_data = scaler.transform(X)\n",
        "X = standarized_data\n",
        "#X = scaler.fit_transform(X)\n",
        "\n",
        "X_train, X_test, y_train, y_test = train_test_split(X, y, test_size=0.2, random_state=1)"
      ],
      "metadata": {
        "id": "KXiCYFCB2bbm",
        "colab": {
          "base_uri": "https://localhost:8080/"
        },
        "outputId": "18edbcad-3ccf-4486-d1fb-2e9ebf87d108"
      },
      "execution_count": null,
      "outputs": [
        {
          "output_type": "stream",
          "name": "stdout",
          "text": [
            "     Pregnancies  Glucose  BloodPressure  SkinThickness  Insulin   BMI  \\\n",
            "0              6      148             72             35        0  33.6   \n",
            "1              1       85             66             29        0  26.6   \n",
            "2              8      183             64              0        0  23.3   \n",
            "3              1       89             66             23       94  28.1   \n",
            "4              0      137             40             35      168  43.1   \n",
            "..           ...      ...            ...            ...      ...   ...   \n",
            "763           10      101             76             48      180  32.9   \n",
            "764            2      122             70             27        0  36.8   \n",
            "765            5      121             72             23      112  26.2   \n",
            "766            1      126             60              0        0  30.1   \n",
            "767            1       93             70             31        0  30.4   \n",
            "\n",
            "     DiabetesPedigreeFunction  Age  Outcome  \n",
            "0                       0.627   50        1  \n",
            "1                       0.351   31        0  \n",
            "2                       0.672   32        1  \n",
            "3                       0.167   21        0  \n",
            "4                       2.288   33        1  \n",
            "..                        ...  ...      ...  \n",
            "763                     0.171   63        0  \n",
            "764                     0.340   27        0  \n",
            "765                     0.245   30        0  \n",
            "766                     0.349   47        1  \n",
            "767                     0.315   23        0  \n",
            "\n",
            "[768 rows x 9 columns]\n"
          ]
        }
      ]
    },
    {
      "cell_type": "markdown",
      "source": [],
      "metadata": {
        "id": "-eZYmKxDBnYH"
      }
    },
    {
      "cell_type": "markdown",
      "source": [
        "##Naive Bayes on DataSet_1\n",
        "\n",
        "\n"
      ],
      "metadata": {
        "id": "438LNSK32PNc"
      }
    },
    {
      "cell_type": "code",
      "source": [
        "gnb = GaussianNB()\n",
        "gnb.fit(X_train, y_train)\n",
        "y_pred_train = gnb.predict(X_train)\n",
        "accuracy1 = accuracy_score(y_train, y_pred_train)\n",
        "print(f'Accuracy of the model during training: {accuracy1}')\n",
        "y_pred_test = gnb.predict(X_test)\n",
        "accuracy2 = accuracy_score(y_test, y_pred_test)\n",
        "print(f'Accuracy of the model during testing: {accuracy2}')"
      ],
      "metadata": {
        "colab": {
          "base_uri": "https://localhost:8080/"
        },
        "id": "ld7xcBeK5fY2",
        "outputId": "2246ead1-1e5f-4583-eb9f-060a5f9018ee"
      },
      "execution_count": null,
      "outputs": [
        {
          "output_type": "stream",
          "name": "stdout",
          "text": [
            "Accuracy of the model during training: 0.7703583061889251\n",
            "Accuracy of the model during testing: 0.7727272727272727\n"
          ]
        }
      ]
    },
    {
      "cell_type": "markdown",
      "source": [
        "##SVM on DataSet_1\n",
        "\n",
        "\n",
        "\n"
      ],
      "metadata": {
        "id": "F1MZOG6l7QaV"
      }
    },
    {
      "cell_type": "code",
      "source": [
        "classifier = svm.SVC(kernel='linear')\n",
        "classifier.fit(X_train, y_train)\n",
        "y_pred_train = classifier.predict(X_train)\n",
        "accuracy1 = accuracy_score(y_train, y_pred_train)\n",
        "print(f'Accuracy of the model during training: {accuracy1}')\n",
        "y_pred_test = classifier.predict(X_test)\n",
        "accuracy2 = accuracy_score(y_test, y_pred_test)\n",
        "print(f'Accuracy of the model during testing: {accuracy2}')"
      ],
      "metadata": {
        "colab": {
          "base_uri": "https://localhost:8080/"
        },
        "id": "9DAvdL9q7aWr",
        "outputId": "e256bce9-86a9-4a9d-aaf9-e7a6b85b29b1"
      },
      "execution_count": null,
      "outputs": [
        {
          "output_type": "stream",
          "name": "stdout",
          "text": [
            "Accuracy of the model during training: 0.7719869706840391\n",
            "Accuracy of the model during testing: 0.7792207792207793\n"
          ]
        }
      ]
    },
    {
      "cell_type": "markdown",
      "source": [
        "##Decision Tree on DataSet_1"
      ],
      "metadata": {
        "id": "6SNoTCsZDgRP"
      }
    },
    {
      "cell_type": "code",
      "source": [
        "tree_classifier = DecisionTreeClassifier(max_depth=2, criterion='gini')\n",
        "tree_classifier.fit(X_train, y_train)\n",
        "y_pred_train = tree_classifier.predict(X_train)\n",
        "accuracy1 = accuracy_score(y_train, y_pred_train)\n",
        "print(f'Accuracy of the model during training: {accuracy1}')\n",
        "y_pred_test = tree_classifier.predict(X_test)\n",
        "accuracy2 = accuracy_score(y_test, y_pred_test)\n",
        "print(f'Accuracy of the model during testing: {accuracy2}')"
      ],
      "metadata": {
        "colab": {
          "base_uri": "https://localhost:8080/"
        },
        "id": "0mAn69BGDr21",
        "outputId": "f4ee2888-a946-42b1-ae66-7873cb0cd6bb"
      },
      "execution_count": null,
      "outputs": [
        {
          "output_type": "stream",
          "name": "stdout",
          "text": [
            "Accuracy of the model during training: 0.7654723127035831\n",
            "Accuracy of the model during testing: 0.7987012987012987\n"
          ]
        }
      ]
    },
    {
      "cell_type": "markdown",
      "source": [
        "## KNN on DataSet_1"
      ],
      "metadata": {
        "id": "7SRr2CEJEQI5"
      }
    },
    {
      "cell_type": "code",
      "source": [
        "knn = KNeighborsClassifier(n_neighbors=5)\n",
        "knn.fit(X_train, y_train)\n",
        "y_pred_train = knn.predict(X_train)\n",
        "accuracy1 = accuracy_score(y_train, y_pred_train)\n",
        "print(f'Accuracy of the model during training: {accuracy1}')\n",
        "y_pred_test = knn.predict(X_test)\n",
        "accuracy2 = accuracy_score(y_test, y_pred_test)\n",
        "print(f'Accuracy of the model during testing: {accuracy2}')"
      ],
      "metadata": {
        "colab": {
          "base_uri": "https://localhost:8080/"
        },
        "id": "4FFXS93QEWmX",
        "outputId": "03cac020-570c-4746-9dc5-8189d0c37f3e"
      },
      "execution_count": null,
      "outputs": [
        {
          "output_type": "stream",
          "name": "stdout",
          "text": [
            "Accuracy of the model during training: 0.8192182410423453\n",
            "Accuracy of the model during testing: 0.8051948051948052\n"
          ]
        }
      ]
    },
    {
      "cell_type": "markdown",
      "source": [
        "# Random Forest on Dataset_1"
      ],
      "metadata": {
        "id": "uZ1fnqAzwKv-"
      }
    },
    {
      "cell_type": "code",
      "source": [
        "from sklearn.ensemble import RandomForestClassifier\n",
        "clf = RandomForestClassifier(\n",
        "    n_estimators=100,  # Use more trees\n",
        "    max_depth=100,  # Decrease max depth\n",
        "    min_samples_split=20,  # Increase min samples split\n",
        "    min_samples_leaf=1,\n",
        "    max_features='sqrt',\n",
        "    random_state=5\n",
        ")\n",
        "\n",
        "# Fit the classifier and make predictions\n",
        "clf.fit(X_train, y_train)\n",
        "Y_pred = clf.predict(X_test)\n",
        "\n",
        "# Print the accuracy score\n",
        "print(f\"Accuracy: {accuracy_score(y_test, Y_pred)}\")\n",
        "\n",
        "# Print the accuracy score on the training set\n",
        "Y_train_pred = clf.predict(X_train)\n",
        "print(f\"Training Accuracy: {accuracy_score(y_train, Y_train_pred)}\")"
      ],
      "metadata": {
        "colab": {
          "base_uri": "https://localhost:8080/"
        },
        "id": "Y4vaFXcFwQ2n",
        "outputId": "c766325c-d4a5-41b6-a426-ee1824b59467"
      },
      "execution_count": null,
      "outputs": [
        {
          "output_type": "stream",
          "name": "stdout",
          "text": [
            "Accuracy: 0.8116883116883117\n",
            "Training Accuracy: 0.8811074918566775\n"
          ]
        }
      ]
    },
    {
      "cell_type": "markdown",
      "source": [
        "## DATASET_2\n"
      ],
      "metadata": {
        "id": "916fGYegBp0j"
      }
    },
    {
      "cell_type": "code",
      "source": [
        "file_path2 = \"1MeZdDDTYdrr6F9HRyHNZngGOwesCpInl\"\n",
        "url2 = f\"https://drive.google.com/uc?export=download&id={file_path2}\"\n",
        "data2 = pd.read_csv(url2)\n",
        "print(data2)\n",
        "\n",
        "# Create an instance of LabelEncoder\n",
        "lab = LabelEncoder()\n",
        "\n",
        "# Perform label encoding on the 'my_column' column\n",
        "data2['gender'] = lab.fit_transform(data2['gender'])\n",
        "data2['frame'] = lab.fit_transform(data2['frame'])\n",
        "data2['location'] = lab.fit_transform(data2['location'])\n",
        "\n",
        "# Create a SimpleImputer object with strategy as 'mean'\n",
        "imputer = SimpleImputer(missing_values=np.nan, strategy='mean')\n",
        "# Fit and transform the DataFrame df\n",
        "data_imputed = pd.DataFrame(imputer.fit_transform(data2), columns=data2.columns)\n",
        "\n",
        "\n",
        "X = data_imputed.drop(columns=['id' , 'Prediction'],axis=1)\n",
        "Y = data_imputed['Prediction']\n",
        "\n",
        "# Standardize the features\n",
        "scaler = StandardScaler()\n",
        "scaler.fit(X)\n",
        "standarized_data = scaler.transform(X)\n",
        "X = standarized_data\n",
        "#X = scaler.fit_transform(X)\n",
        "\n",
        "X_train, X_test, y_train, y_test = train_test_split(X, Y, test_size=0.2, random_state=1)"
      ],
      "metadata": {
        "id": "cYoZZMPI5qam",
        "colab": {
          "base_uri": "https://localhost:8080/"
        },
        "outputId": "93817ea2-b8d3-4de6-bb27-125f07242597"
      },
      "execution_count": null,
      "outputs": [
        {
          "output_type": "stream",
          "name": "stdout",
          "text": [
            "        id   chol  stab.glu   hdl  ratio      glyhb    location  age  gender  \\\n",
            "0     1000  203.0        82  56.0    3.6   4.310000  Buckingham   46  female   \n",
            "1     1001  165.0        97  24.0    6.9   4.440000  Buckingham   29  female   \n",
            "2     1002  228.0        92  37.0    6.2   4.640000  Buckingham   58  female   \n",
            "3     1003   78.0        93  12.0    6.5   4.630000  Buckingham   67    male   \n",
            "4     1005  249.0        90  28.0    8.9   7.720000  Buckingham   64    male   \n",
            "..     ...    ...       ...   ...    ...        ...         ...  ...     ...   \n",
            "398  41506  296.0       369  46.0    6.4  16.110001      Louisa   53    male   \n",
            "399  41507  284.0        89  54.0    5.3   4.390000      Louisa   51  female   \n",
            "400  41510  194.0       269  38.0    5.1  13.630000      Louisa   29  female   \n",
            "401  41752  199.0        76  52.0    3.8   4.490000      Louisa   41  female   \n",
            "402  41756  159.0        88  79.0    2.0        NaN      Louisa   68  female   \n",
            "\n",
            "     height  weight   frame  bp.1s  bp.1d  bp.2s  bp.2d  waist   hip  \\\n",
            "0      62.0   121.0  medium  118.0   59.0    NaN    NaN   29.0  38.0   \n",
            "1      64.0   218.0   large  112.0   68.0    NaN    NaN   46.0  48.0   \n",
            "2      61.0   256.0   large  190.0   92.0  185.0   92.0   49.0  57.0   \n",
            "3      67.0   119.0   large  110.0   50.0    NaN    NaN   33.0  38.0   \n",
            "4      68.0   183.0  medium  138.0   80.0    NaN    NaN   44.0  41.0   \n",
            "..      ...     ...     ...    ...    ...    ...    ...    ...   ...   \n",
            "398    69.0   173.0  medium  138.0   94.0  130.0   94.0   35.0  39.0   \n",
            "399    63.0   154.0  medium  140.0  100.0  146.0  102.0   32.0  43.0   \n",
            "400    69.0   167.0   small  120.0   70.0    NaN    NaN   33.0  40.0   \n",
            "401    63.0   197.0  medium  120.0   78.0    NaN    NaN   41.0  48.0   \n",
            "402    64.0   220.0  medium  100.0   72.0    NaN    NaN   49.0  58.0   \n",
            "\n",
            "     time.ppn  Prediction  \n",
            "0       720.0           0  \n",
            "1       360.0           0  \n",
            "2       180.0           0  \n",
            "3       480.0           0  \n",
            "4       300.0           1  \n",
            "..        ...         ...  \n",
            "398     210.0           1  \n",
            "399     180.0           0  \n",
            "400      20.0           1  \n",
            "401     255.0           0  \n",
            "402     900.0           0  \n",
            "\n",
            "[403 rows x 20 columns]\n"
          ]
        }
      ]
    },
    {
      "cell_type": "markdown",
      "source": [
        "##Naive Bayes on DataSet_2"
      ],
      "metadata": {
        "id": "CnuP_80qIops"
      }
    },
    {
      "cell_type": "code",
      "source": [
        "gnb = GaussianNB()\n",
        "gnb.fit(X_train, y_train)\n",
        "y_pred_train = gnb.predict(X_train)\n",
        "accuracy1 = accuracy_score(y_train, y_pred_train)\n",
        "print(f'Accuracy of the model during training: {accuracy1}')\n",
        "y_pred_test = gnb.predict(X_test)\n",
        "accuracy2 = accuracy_score(y_test, y_pred_test)\n",
        "print(f'Accuracy of the model during testing: {accuracy2}')"
      ],
      "metadata": {
        "colab": {
          "base_uri": "https://localhost:8080/"
        },
        "id": "cJG0VIxWF7VB",
        "outputId": "dc14737c-61b4-4231-a3c6-ae1d2854b366"
      },
      "execution_count": null,
      "outputs": [
        {
          "output_type": "stream",
          "name": "stdout",
          "text": [
            "Accuracy of the model during training: 0.9782608695652174\n",
            "Accuracy of the model during testing: 0.9876543209876543\n"
          ]
        }
      ]
    },
    {
      "cell_type": "markdown",
      "source": [
        "##SVM on DataSet_2"
      ],
      "metadata": {
        "id": "LkjrlRGvIznM"
      }
    },
    {
      "cell_type": "code",
      "source": [
        "classifier = svm.SVC(kernel='linear')\n",
        "classifier.fit(X_train, y_train)\n",
        "y_pred_train = classifier.predict(X_train)\n",
        "accuracy1 = accuracy_score(y_train, y_pred_train)\n",
        "print(f'Accuracy of the model during training: {accuracy1}')\n",
        "y_pred_test = classifier.predict(X_test)\n",
        "accuracy2 = accuracy_score(y_test, y_pred_test)\n",
        "print(f'Accuracy of the model during testing: {accuracy2}')"
      ],
      "metadata": {
        "colab": {
          "base_uri": "https://localhost:8080/"
        },
        "id": "mZYPMTuMI6P3",
        "outputId": "2c18d2e3-d5c7-4606-c8b7-5163ebfbed35"
      },
      "execution_count": null,
      "outputs": [
        {
          "output_type": "stream",
          "name": "stdout",
          "text": [
            "Accuracy of the model during training: 0.9937888198757764\n",
            "Accuracy of the model during testing: 0.9629629629629629\n"
          ]
        }
      ]
    },
    {
      "cell_type": "markdown",
      "source": [
        "##Decision Tree on DataSet_2\n"
      ],
      "metadata": {
        "id": "B-8VSv7iJCY-"
      }
    },
    {
      "cell_type": "code",
      "source": [
        "tree_classifier = DecisionTreeClassifier(max_depth=2, criterion='log_loss')\n",
        "tree_classifier.fit(X_train, y_train)\n",
        "y_pred_train = tree_classifier.predict(X_train)\n",
        "accuracy1 = accuracy_score(y_train, y_pred_train)\n",
        "print(f'Accuracy of the model during training: {accuracy1}')\n",
        "y_pred_test = tree_classifier.predict(X_test)\n",
        "accuracy2 = accuracy_score(y_test, y_pred_test)\n",
        "print(f'Accuracy of the model during testing: {accuracy2}')"
      ],
      "metadata": {
        "colab": {
          "base_uri": "https://localhost:8080/"
        },
        "id": "WPnEZ7JmJKKD",
        "outputId": "57ece6f5-51ee-42cc-e9b9-dd4a6244b131"
      },
      "execution_count": null,
      "outputs": [
        {
          "output_type": "stream",
          "name": "stdout",
          "text": [
            "Accuracy of the model during training: 1.0\n",
            "Accuracy of the model during testing: 1.0\n"
          ]
        }
      ]
    },
    {
      "cell_type": "markdown",
      "source": [
        "##KNN on DataSet_2"
      ],
      "metadata": {
        "id": "A0MOYGQ5J_Y0"
      }
    },
    {
      "cell_type": "code",
      "source": [
        "knn = KNeighborsClassifier(n_neighbors=5)\n",
        "knn.fit(X_train, y_train)\n",
        "y_pred_train = knn.predict(X_train)\n",
        "accuracy1 = accuracy_score(y_train, y_pred_train)\n",
        "print(f'Accuracy of the model during training: {accuracy1}')\n",
        "y_pred_test = knn.predict(X_test)\n",
        "accuracy2 = accuracy_score(y_test, y_pred_test)\n",
        "print(f'Accuracy of the model during testing: {accuracy2}')"
      ],
      "metadata": {
        "colab": {
          "base_uri": "https://localhost:8080/"
        },
        "id": "CPZ1BRizKFLE",
        "outputId": "a0d819b2-18cd-4699-92d2-7c87811c87ec"
      },
      "execution_count": null,
      "outputs": [
        {
          "output_type": "stream",
          "name": "stdout",
          "text": [
            "Accuracy of the model during training: 0.937888198757764\n",
            "Accuracy of the model during testing: 0.9382716049382716\n"
          ]
        }
      ]
    },
    {
      "cell_type": "markdown",
      "source": [
        "# Random Forest on DataSet_2"
      ],
      "metadata": {
        "id": "Zn3pHcyhuL9t"
      }
    },
    {
      "cell_type": "code",
      "source": [
        "from sklearn.ensemble import RandomForestClassifier\n",
        "clf = RandomForestClassifier(\n",
        "    n_estimators=100,  # Use more trees\n",
        "    max_depth=None,  # Decrease max depth\n",
        "    min_samples_split=2,  # Increase min samples split\n",
        "    min_samples_leaf=1,\n",
        "    max_features='sqrt',\n",
        "    random_state=5\n",
        ")\n",
        "\n",
        "# Fit the classifier and make predictions\n",
        "clf.fit(X_train, y_train)\n",
        "Y_pred = clf.predict(X_test)\n",
        "\n",
        "# Print the accuracy score\n",
        "print(f\"Accuracy: {accuracy_score(y_test, Y_pred)}\")\n",
        "\n",
        "# Print the accuracy score on the training set\n",
        "Y_train_pred = clf.predict(X_train)\n",
        "print(f\"Training Accuracy: {accuracy_score(y_train, Y_train_pred)}\")"
      ],
      "metadata": {
        "colab": {
          "base_uri": "https://localhost:8080/"
        },
        "id": "yKs3iqYQuWfT",
        "outputId": "dea055a5-d23f-45e7-8154-06b4e2f5df00"
      },
      "execution_count": null,
      "outputs": [
        {
          "output_type": "stream",
          "name": "stdout",
          "text": [
            "Accuracy: 1.0\n",
            "Training Accuracy: 1.0\n"
          ]
        }
      ]
    },
    {
      "cell_type": "markdown",
      "source": [
        "## DATASET-3"
      ],
      "metadata": {
        "id": "ZRRJHk6PCPUs"
      }
    },
    {
      "cell_type": "code",
      "source": [
        "file_path3 = \"1WbaIkPYKzAaP_6_wB9tOkVL6OvFsetFY\"\n",
        "url3 = f\"https://drive.google.com/uc?export=download&id={file_path3}\"\n",
        "data3 = pd.read_csv(url3)\n",
        "print(data3)"
      ],
      "metadata": {
        "colab": {
          "base_uri": "https://localhost:8080/"
        },
        "id": "qscaqxUVBw0o",
        "outputId": "62ee3145-8d4e-45eb-9e65-9cb07036338c"
      },
      "execution_count": null,
      "outputs": [
        {
          "output_type": "stream",
          "name": "stdout",
          "text": [
            "       gender   age  hypertension  heart_disease smoking_history    bmi  \\\n",
            "0      Female  80.0             0              1           never  25.19   \n",
            "1      Female  54.0             0              0         No Info  27.32   \n",
            "2        Male  28.0             0              0           never  27.32   \n",
            "3      Female  36.0             0              0         current  23.45   \n",
            "4        Male  76.0             1              1         current  20.14   \n",
            "...       ...   ...           ...            ...             ...    ...   \n",
            "99995  Female  80.0             0              0         No Info  27.32   \n",
            "99996  Female   2.0             0              0         No Info  17.37   \n",
            "99997    Male  66.0             0              0          former  27.83   \n",
            "99998  Female  24.0             0              0           never  35.42   \n",
            "99999  Female  57.0             0              0         current  22.43   \n",
            "\n",
            "       HbA1c_level  blood_glucose_level  diabetes  \n",
            "0              6.6                  140         0  \n",
            "1              6.6                   80         0  \n",
            "2              5.7                  158         0  \n",
            "3              5.0                  155         0  \n",
            "4              4.8                  155         0  \n",
            "...            ...                  ...       ...  \n",
            "99995          6.2                   90         0  \n",
            "99996          6.5                  100         0  \n",
            "99997          5.7                  155         0  \n",
            "99998          4.0                  100         0  \n",
            "99999          6.6                   90         0  \n",
            "\n",
            "[100000 rows x 9 columns]\n"
          ]
        }
      ]
    },
    {
      "cell_type": "code",
      "source": [
        "\n",
        "X = data3.drop(columns=['diabetes'],axis=1)\n",
        "Y = data3['diabetes']\n",
        "\n",
        "# Create an instance of LabelEncoder\n",
        "lab = LabelEncoder()\n",
        "\n",
        "# Perform label encoding on the 'my_column' column\n",
        "data3['gender']=data3['gender'] = data3['gender'].replace({'Female': 0, 'Male': 1, 'Other':2})\n",
        "data3['smoking_history']=data3['smoking_history'] = data3['smoking_history'].replace({'never': 2, 'current': 1, 'former': 3, 'No Info': 0, 'ever':3, 'not current':4})\n",
        "\n",
        "# Standardize the features\n",
        "scaler = StandardScaler()\n",
        "scaler.fit(X)\n",
        "standarized_data = scaler.transform(X)\n",
        "X = standarized_data\n",
        "#X = scaler.fit_transform(X)\n",
        "\n",
        "X_train, X_test, y_train, y_test = train_test_split(X, Y, test_size=0.2, random_state=1)\n",
        "print(data3)"
      ],
      "metadata": {
        "colab": {
          "base_uri": "https://localhost:8080/"
        },
        "id": "objHE69Aigw2",
        "outputId": "acdc8556-183e-41f7-a916-d50a96d73f46"
      },
      "execution_count": null,
      "outputs": [
        {
          "output_type": "stream",
          "name": "stdout",
          "text": [
            "       gender   age  hypertension  heart_disease  smoking_history    bmi  \\\n",
            "0           0  80.0             0              1                2  25.19   \n",
            "1           0  54.0             0              0                0  27.32   \n",
            "2           1  28.0             0              0                2  27.32   \n",
            "3           0  36.0             0              0                1  23.45   \n",
            "4           1  76.0             1              1                1  20.14   \n",
            "...       ...   ...           ...            ...              ...    ...   \n",
            "99995       0  80.0             0              0                0  27.32   \n",
            "99996       0   2.0             0              0                0  17.37   \n",
            "99997       1  66.0             0              0                3  27.83   \n",
            "99998       0  24.0             0              0                2  35.42   \n",
            "99999       0  57.0             0              0                1  22.43   \n",
            "\n",
            "       HbA1c_level  blood_glucose_level  diabetes  \n",
            "0              6.6                  140         0  \n",
            "1              6.6                   80         0  \n",
            "2              5.7                  158         0  \n",
            "3              5.0                  155         0  \n",
            "4              4.8                  155         0  \n",
            "...            ...                  ...       ...  \n",
            "99995          6.2                   90         0  \n",
            "99996          6.5                  100         0  \n",
            "99997          5.7                  155         0  \n",
            "99998          4.0                  100         0  \n",
            "99999          6.6                   90         0  \n",
            "\n",
            "[100000 rows x 9 columns]\n"
          ]
        }
      ]
    },
    {
      "cell_type": "markdown",
      "source": [
        "## Naive Bayes on DataSet_3\n",
        "\n",
        "\n"
      ],
      "metadata": {
        "id": "FonozpfXmHrO"
      }
    },
    {
      "cell_type": "code",
      "source": [
        "gnb = GaussianNB()\n",
        "gnb.fit(X_train, y_train)\n",
        "y_pred_train = gnb.predict(X_train)\n",
        "accuracy1 = accuracy_score(y_train, y_pred_train)\n",
        "print(f'Accuracy of the model during training: {accuracy1}')\n",
        "y_pred_test = gnb.predict(X_test)\n",
        "accuracy2 = accuracy_score(y_test, y_pred_test)\n",
        "print(f'Accuracy of the model during testing: {accuracy2}')"
      ],
      "metadata": {
        "colab": {
          "base_uri": "https://localhost:8080/"
        },
        "id": "eak9Yiv2mdL5",
        "outputId": "a1172046-80c0-46f3-892d-387966ec3466"
      },
      "execution_count": null,
      "outputs": [
        {
          "output_type": "stream",
          "name": "stdout",
          "text": [
            "Accuracy of the model during training: 0.902925\n",
            "Accuracy of the model during testing: 0.90395\n"
          ]
        }
      ]
    },
    {
      "cell_type": "markdown",
      "source": [
        "## SVM on DataSet_3"
      ],
      "metadata": {
        "id": "DU5Jwqw9namR"
      }
    },
    {
      "cell_type": "code",
      "source": [
        "classifier = svm.SVC(kernel='linear')\n",
        "classifier.fit(X_train, y_train)\n",
        "y_pred_train = classifier.predict(X_train)\n",
        "accuracy1 = accuracy_score(y_train, y_pred_train)\n",
        "print(f'Accuracy of the model during training: {accuracy1}')\n",
        "y_pred_test = classifier.predict(X_test)\n",
        "accuracy2 = accuracy_score(y_test, y_pred_test)\n",
        "print(f'Accuracy of the model during testing: {accuracy2}')"
      ],
      "metadata": {
        "colab": {
          "base_uri": "https://localhost:8080/"
        },
        "id": "bm3IELfjnhcT",
        "outputId": "5209c929-f6d1-4313-d2e5-41a5465495e9"
      },
      "execution_count": null,
      "outputs": [
        {
          "output_type": "stream",
          "name": "stdout",
          "text": [
            "Accuracy of the model during training: 0.9606625\n",
            "Accuracy of the model during testing: 0.96105\n"
          ]
        }
      ]
    },
    {
      "cell_type": "markdown",
      "source": [
        "## Decision Tree on DataSet_3"
      ],
      "metadata": {
        "id": "Tw118motxSVj"
      }
    },
    {
      "cell_type": "code",
      "source": [
        "tree_classifier = DecisionTreeClassifier(max_depth=2, criterion='entropy')\n",
        "tree_classifier.fit(X_train, y_train)\n",
        "y_pred_train = tree_classifier.predict(X_train)\n",
        "accuracy1 = accuracy_score(y_train, y_pred_train)\n",
        "print(f'Accuracy of the model during training: {accuracy1}')\n",
        "y_pred_test = tree_classifier.predict(X_test)\n",
        "accuracy2 = accuracy_score(y_test, y_pred_test)\n",
        "print(f'Accuracy of the model during testing: {accuracy2}')"
      ],
      "metadata": {
        "id": "lqah8_XnxcPk",
        "colab": {
          "base_uri": "https://localhost:8080/"
        },
        "outputId": "f4d12e10-0a89-4943-d765-b8c43e9d1506"
      },
      "execution_count": null,
      "outputs": [
        {
          "output_type": "stream",
          "name": "stdout",
          "text": [
            "Accuracy of the model during training: 0.971725\n",
            "Accuracy of the model during testing: 0.97245\n"
          ]
        }
      ]
    },
    {
      "cell_type": "markdown",
      "source": [
        "# Random Forest on DataSet_3"
      ],
      "metadata": {
        "id": "57NswFgmwsoK"
      }
    },
    {
      "cell_type": "code",
      "source": [
        "from sklearn.ensemble import RandomForestClassifier\n",
        "clf = RandomForestClassifier(\n",
        "    n_estimators=100,  # Use more trees\n",
        "    max_depth=None,  # Decrease max depth\n",
        "    min_samples_split=2,  # Increase min samples split\n",
        "    min_samples_leaf=1,\n",
        "    max_features='sqrt',\n",
        "    random_state=5\n",
        ")\n",
        "\n",
        "# Fit the classifier and make predictions\n",
        "clf.fit(X_train, y_train)\n",
        "Y_pred = clf.predict(X_test)\n",
        "\n",
        "# Print the accuracy score\n",
        "print(f\"Accuracy: {accuracy_score(y_test, Y_pred)}\")\n",
        "\n",
        "# Print the accuracy score on the training set\n",
        "Y_train_pred = clf.predict(X_train)\n",
        "print(f\"Training Accuracy: {accuracy_score(y_train, Y_train_pred)}\")"
      ],
      "metadata": {
        "colab": {
          "base_uri": "https://localhost:8080/"
        },
        "id": "YoEZFqI2wzKP",
        "outputId": "9ad73f8b-a910-40ad-d499-f00c4f619de6"
      },
      "execution_count": null,
      "outputs": [
        {
          "output_type": "stream",
          "name": "stdout",
          "text": [
            "Accuracy: 0.97045\n",
            "Training Accuracy: 0.99925\n"
          ]
        }
      ]
    },
    {
      "cell_type": "markdown",
      "source": [
        "## DATASET-4"
      ],
      "metadata": {
        "id": "MJb5Vna0C3XK"
      }
    },
    {
      "cell_type": "code",
      "source": [
        "file_path4 = \"1rrFUSShewclzkPmfd7ZYW3EQyTzZWnLF\"\n",
        "url4 = f\"https://drive.google.com/uc?export=download&id={file_path4}\"\n",
        "data4 = pd.read_csv(url4)\n",
        "print(data4)\n",
        "\n",
        "X = data4.drop(columns=['Diabetes_012'],axis=1)\n",
        "Y = data4['Diabetes_012']\n",
        "\n",
        "# Standardize the features\n",
        "scaler = StandardScaler()\n",
        "scaler.fit(X)\n",
        "standarized_data = scaler.transform(X)\n",
        "X = standarized_data\n",
        "#X = scaler.fit_transform(X)\n",
        "\n",
        "X_train, X_test, y_train, y_test = train_test_split(X, Y, test_size=0.2, random_state=1)"
      ],
      "metadata": {
        "colab": {
          "base_uri": "https://localhost:8080/"
        },
        "id": "LPNsYvg1Cx4x",
        "outputId": "d1055d03-d0f6-434d-df1d-f1f4abce73c7"
      },
      "execution_count": null,
      "outputs": [
        {
          "output_type": "stream",
          "name": "stdout",
          "text": [
            "        Diabetes_012  HighBP  HighChol  CholCheck  BMI  Smoker  Stroke  \\\n",
            "0                  0       1         1          1   40       1       0   \n",
            "1                  0       0         0          0   25       1       0   \n",
            "2                  0       1         1          1   28       0       0   \n",
            "3                  0       1         0          1   27       0       0   \n",
            "4                  0       1         1          1   24       0       0   \n",
            "...              ...     ...       ...        ...  ...     ...     ...   \n",
            "253675             0       1         1          1   45       0       0   \n",
            "253676             1       1         1          1   18       0       0   \n",
            "253677             0       0         0          1   28       0       0   \n",
            "253678             0       1         0          1   23       0       0   \n",
            "253679             1       1         1          1   25       0       0   \n",
            "\n",
            "        HeartDiseaseorAttack  PhysActivity  Fruits  ...  AnyHealthcare  \\\n",
            "0                          0             0       0  ...              1   \n",
            "1                          0             1       0  ...              0   \n",
            "2                          0             0       1  ...              1   \n",
            "3                          0             1       1  ...              1   \n",
            "4                          0             1       1  ...              1   \n",
            "...                      ...           ...     ...  ...            ...   \n",
            "253675                     0             0       1  ...              1   \n",
            "253676                     0             0       0  ...              1   \n",
            "253677                     0             1       1  ...              1   \n",
            "253678                     0             0       1  ...              1   \n",
            "253679                     1             1       1  ...              1   \n",
            "\n",
            "        NoDocbcCost  GenHlth  MentHlth  PhysHlth  DiffWalk  Sex  Age  \\\n",
            "0                 0        5        18        15         1    0    9   \n",
            "1                 1        3         0         0         0    0    7   \n",
            "2                 1        5        30        30         1    0    9   \n",
            "3                 0        2         0         0         0    0   11   \n",
            "4                 0        2         3         0         0    0   11   \n",
            "...             ...      ...       ...       ...       ...  ...  ...   \n",
            "253675            0        3         0         5         0    1    5   \n",
            "253676            0        4         0         0         1    0   11   \n",
            "253677            0        1         0         0         0    0    2   \n",
            "253678            0        3         0         0         0    1    7   \n",
            "253679            0        2         0         0         0    0    9   \n",
            "\n",
            "        Education  Income  \n",
            "0               4       3  \n",
            "1               6       1  \n",
            "2               4       8  \n",
            "3               3       6  \n",
            "4               5       4  \n",
            "...           ...     ...  \n",
            "253675          6       7  \n",
            "253676          2       4  \n",
            "253677          5       2  \n",
            "253678          5       1  \n",
            "253679          6       2  \n",
            "\n",
            "[253680 rows x 22 columns]\n"
          ]
        }
      ]
    },
    {
      "cell_type": "markdown",
      "source": [
        "##Naive Bayes on DataSet_4"
      ],
      "metadata": {
        "id": "XvtEENmNfOox"
      }
    },
    {
      "cell_type": "code",
      "source": [
        "gnb = GaussianNB()\n",
        "gnb.fit(X_train, y_train)\n",
        "y_pred_train = gnb.predict(X_train)\n",
        "accuracy1 = accuracy_score(y_train, y_pred_train)\n",
        "print(f'Accuracy of the model during training: {accuracy1}')\n",
        "y_pred_test = gnb.predict(X_test)\n",
        "accuracy2 = accuracy_score(y_test, y_pred_test)\n",
        "print(f'Accuracy of the model during testing: {accuracy2}')"
      ],
      "metadata": {
        "id": "0mJUTbmiDKsl",
        "colab": {
          "base_uri": "https://localhost:8080/"
        },
        "outputId": "f7a51f7c-a032-4097-ff3a-058d2a4011e7"
      },
      "execution_count": null,
      "outputs": [
        {
          "output_type": "stream",
          "name": "stdout",
          "text": [
            "Accuracy of the model during training: 0.7737848864711447\n",
            "Accuracy of the model during testing: 0.774538789025544\n"
          ]
        }
      ]
    },
    {
      "cell_type": "markdown",
      "source": [
        "##SVM on DataSet_4"
      ],
      "metadata": {
        "id": "hmUxVsiogFCG"
      }
    },
    {
      "cell_type": "code",
      "source": [
        "classifier = svm.SVC(kernel='linear')\n",
        "classifier.fit(X_train, y_train)\n",
        "y_pred_train = classifier.predict(X_train)\n",
        "accuracy1 = accuracy_score(y_train, y_pred_train)\n",
        "print(f'Accuracy of the model during training: {accuracy1}')\n",
        "y_pred_test = classifier.predict(X_test)\n",
        "accuracy2 = accuracy_score(y_test, y_pred_test)\n",
        "print(f'Accuracy of the model during testing: {accuracy2}')"
      ],
      "metadata": {
        "colab": {
          "base_uri": "https://localhost:8080/"
        },
        "id": "I-yQhZnPgD91",
        "outputId": "5c308e4f-316b-4699-a4fd-1eda21fba196"
      },
      "execution_count": null,
      "outputs": [
        {
          "output_type": "stream",
          "name": "stdout",
          "text": [
            "Accuracy of the model during training: 0.8606462866603595\n",
            "Accuracy of the model during testing: 0.8607497634815515\n"
          ]
        }
      ]
    },
    {
      "cell_type": "markdown",
      "source": [
        "##Decision Tree on DataSet_4"
      ],
      "metadata": {
        "id": "Ikv53frHgKzm"
      }
    },
    {
      "cell_type": "code",
      "source": [
        "tree_classifier = DecisionTreeClassifier(max_depth=2, criterion='entropy')\n",
        "tree_classifier.fit(X_train, y_train)\n",
        "y_pred_train = tree_classifier.predict(X_train)\n",
        "accuracy1 = accuracy_score(y_train, y_pred_train)\n",
        "print(f'Accuracy of the model during training: {accuracy1}')\n",
        "y_pred_test = tree_classifier.predict(X_test)\n",
        "accuracy2 = accuracy_score(y_test, y_pred_test)\n",
        "print(f'Accuracy of the model during testing: {accuracy2}')"
      ],
      "metadata": {
        "colab": {
          "base_uri": "https://localhost:8080/"
        },
        "id": "L_Gjbfh1e0xJ",
        "outputId": "67a15018-6b81-4f92-b757-b47fc1466a57"
      },
      "execution_count": null,
      "outputs": [
        {
          "output_type": "stream",
          "name": "stdout",
          "text": [
            "Accuracy of the model during training: 0.8606462866603595\n",
            "Accuracy of the model during testing: 0.8607497634815515\n"
          ]
        }
      ]
    },
    {
      "cell_type": "markdown",
      "source": [
        "##KNN on DataSet_4"
      ],
      "metadata": {
        "id": "2LzVriuAf_Qf"
      }
    },
    {
      "cell_type": "code",
      "source": [
        "knn = KNeighborsClassifier(n_neighbors=5)\n",
        "knn.fit(X_train, y_train)\n",
        "y_pred_train = knn.predict(X_train)\n",
        "accuracy1 = accuracy_score(y_train, y_pred_train)\n",
        "print(f'Accuracy of the model during training: {accuracy1}')\n",
        "y_pred_test = knn.predict(X_test)\n",
        "accuracy2 = accuracy_score(y_test, y_pred_test)\n",
        "print(f'Accuracy of the model during testing: {accuracy2}')"
      ],
      "metadata": {
        "colab": {
          "base_uri": "https://localhost:8080/"
        },
        "id": "rSrIAbSnfjUW",
        "outputId": "0c5e7298-7137-4f62-8d33-b52e3f2a0697"
      },
      "execution_count": null,
      "outputs": [
        {
          "output_type": "stream",
          "name": "stdout",
          "text": [
            "Accuracy of the model during training: 0.8867323005361085\n",
            "Accuracy of the model during testing: 0.8473864711447493\n"
          ]
        }
      ]
    },
    {
      "cell_type": "markdown",
      "source": [
        "# Random Forest on DataSet_4"
      ],
      "metadata": {
        "id": "HVkOpofny4_n"
      }
    },
    {
      "cell_type": "code",
      "source": [
        "from sklearn.ensemble import RandomForestClassifier\n",
        "clf = RandomForestClassifier(\n",
        "    n_estimators=100,  # Use more trees\n",
        "    max_depth=None,  # Decrease max depth\n",
        "    min_samples_split=2,  # Increase min samples split\n",
        "    min_samples_leaf=1,\n",
        "    max_features='sqrt',\n",
        "    random_state=5\n",
        ")\n",
        "\n",
        "# Fit the classifier and make predictions\n",
        "clf.fit(X_train, y_train)\n",
        "Y_pred = clf.predict(X_test)\n",
        "\n",
        "# Print the accuracy score\n",
        "print(f\"Accuracy: {accuracy_score(y_test, Y_pred)}\")\n",
        "\n",
        "# Print the accuracy score on the training set\n",
        "Y_train_pred = clf.predict(X_train)\n",
        "print(f\"Training Accuracy: {accuracy_score(y_train, Y_train_pred)}\")"
      ],
      "metadata": {
        "id": "dEzPb5Gtf76F",
        "colab": {
          "base_uri": "https://localhost:8080/"
        },
        "outputId": "05ac5d8c-54b6-40d5-8d72-170de7ac76f8"
      },
      "execution_count": null,
      "outputs": [
        {
          "output_type": "stream",
          "name": "stdout",
          "text": [
            "Accuracy: 0.8590941343424787\n",
            "Training Accuracy: 0.9943728319142227\n"
          ]
        }
      ]
    },
    {
      "cell_type": "markdown",
      "source": [
        "##Summarized"
      ],
      "metadata": {
        "id": "Ao8tNwyB6gf2"
      }
    },
    {
      "cell_type": "code",
      "source": [],
      "metadata": {
        "id": "K2kDJXaP6dlW"
      },
      "execution_count": null,
      "outputs": []
    }
  ]
}