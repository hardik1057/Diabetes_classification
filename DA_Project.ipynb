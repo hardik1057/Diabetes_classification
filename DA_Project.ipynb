{
  "nbformat": 4,
  "nbformat_minor": 0,
  "metadata": {
    "colab": {
      "provenance": [],
      "gpuType": "T4",
      "include_colab_link": true
    },
    "kernelspec": {
      "name": "python3",
      "display_name": "Python 3"
    },
    "language_info": {
      "name": "python"
    },
    "accelerator": "GPU"
  },
  "cells": [
    {
      "cell_type": "markdown",
      "metadata": {
        "id": "view-in-github",
        "colab_type": "text"
      },
      "source": [
        "<a href=\"https://colab.research.google.com/github/hardik1057/Diabetes_classification/blob/main/DA_Project.ipynb\" target=\"_parent\"><img src=\"https://colab.research.google.com/assets/colab-badge.svg\" alt=\"Open In Colab\"/></a>"
      ]
    },
    {
      "cell_type": "markdown",
      "source": [
        "##Imports"
      ],
      "metadata": {
        "id": "9PzXkBLg5enp"
      }
    },
    {
      "cell_type": "code",
      "source": [
        "import pandas as pd\n",
        "import numpy as np\n",
        "from sklearn.model_selection import train_test_split\n",
        "from sklearn.naive_bayes import GaussianNB\n",
        "from sklearn.tree import DecisionTreeClassifier\n",
        "from sklearn import svm\n",
        "from sklearn.neighbors import KNeighborsClassifier\n",
        "from sklearn.metrics import confusion_matrix,accuracy_score\n",
        "from sklearn.preprocessing import StandardScaler\n",
        "from sklearn.impute import SimpleImputer\n",
        "from sklearn.preprocessing import LabelEncoder\n",
        "import matplotlib.pyplot as plt"
      ],
      "metadata": {
        "id": "nBAcW5428L5n"
      },
      "execution_count": null,
      "outputs": []
    },
    {
      "cell_type": "markdown",
      "source": [
        "##Diabetes Dataset"
      ],
      "metadata": {
        "id": "rpW25pwkK397"
      }
    },
    {
      "cell_type": "code",
      "source": [
        "file_path1 = \"13pV5aLUUdeJ_BtluVIRzSXGAKikbXh_o\"\n",
        "url1 = f\"https://drive.google.com/uc?export=download&id={file_path1}\"\n",
        "data1 = pd.read_csv(url1)\n",
        "print(data1)\n",
        "\n",
        "X = data1[['Pregnancies', 'Glucose', 'BloodPressure', 'SkinThickness', 'Insulin', 'BMI', 'DiabetesPedigreeFunction', 'Age']]\n",
        "y = data1['Outcome']\n",
        "\n",
        "# Standardize the features\n",
        "scaler = StandardScaler()\n",
        "scaler.fit(X)\n",
        "standarized_data = scaler.transform(X)\n",
        "X = standarized_data\n",
        "\n",
        "X_train, X_test, y_train, y_test = train_test_split(X, y, test_size=0.2, random_state=1)"
      ],
      "metadata": {
        "id": "KXiCYFCB2bbm",
        "colab": {
          "base_uri": "https://localhost:8080/"
        },
        "outputId": "e0340267-4090-47d4-c1e1-02860ff764cc"
      },
      "execution_count": null,
      "outputs": [
        {
          "output_type": "stream",
          "name": "stdout",
          "text": [
            "     Pregnancies  Glucose  BloodPressure  SkinThickness  Insulin   BMI  \\\n",
            "0              6      148             72             35        0  33.6   \n",
            "1              1       85             66             29        0  26.6   \n",
            "2              8      183             64              0        0  23.3   \n",
            "3              1       89             66             23       94  28.1   \n",
            "4              0      137             40             35      168  43.1   \n",
            "..           ...      ...            ...            ...      ...   ...   \n",
            "763           10      101             76             48      180  32.9   \n",
            "764            2      122             70             27        0  36.8   \n",
            "765            5      121             72             23      112  26.2   \n",
            "766            1      126             60              0        0  30.1   \n",
            "767            1       93             70             31        0  30.4   \n",
            "\n",
            "     DiabetesPedigreeFunction  Age  Outcome  \n",
            "0                       0.627   50        1  \n",
            "1                       0.351   31        0  \n",
            "2                       0.672   32        1  \n",
            "3                       0.167   21        0  \n",
            "4                       2.288   33        1  \n",
            "..                        ...  ...      ...  \n",
            "763                     0.171   63        0  \n",
            "764                     0.340   27        0  \n",
            "765                     0.245   30        0  \n",
            "766                     0.349   47        1  \n",
            "767                     0.315   23        0  \n",
            "\n",
            "[768 rows x 9 columns]\n"
          ]
        }
      ]
    },
    {
      "cell_type": "markdown",
      "source": [],
      "metadata": {
        "id": "-eZYmKxDBnYH"
      }
    },
    {
      "cell_type": "markdown",
      "source": [
        "##Naive Bayes on Diabetes Dataset\n",
        "\n",
        "\n"
      ],
      "metadata": {
        "id": "438LNSK32PNc"
      }
    },
    {
      "cell_type": "code",
      "source": [
        "gnb = GaussianNB()\n",
        "gnb.fit(X_train, y_train)\n",
        "y_pred_train = gnb.predict(X_train)\n",
        "accuracy1 = accuracy_score(y_train, y_pred_train)\n",
        "print(f'Accuracy of the model during training: {accuracy1}')\n",
        "y_pred_test = gnb.predict(X_test)\n",
        "accuracy_nb1 = accuracy_score(y_test, y_pred_test)\n",
        "print(f'Accuracy of the model during testing: {accuracy_nb1}')\n",
        "conf_matrix = confusion_matrix(y_test, y_pred_test)\n",
        "print(f\"Confusion Matrix:\\n{conf_matrix}\")"
      ],
      "metadata": {
        "colab": {
          "base_uri": "https://localhost:8080/"
        },
        "id": "ld7xcBeK5fY2",
        "outputId": "c3d03cfd-204e-4d9b-e228-82db82dcca15"
      },
      "execution_count": null,
      "outputs": [
        {
          "output_type": "stream",
          "name": "stdout",
          "text": [
            "Accuracy of the model during training: 0.7703583061889251\n",
            "Accuracy of the model during testing: 0.7727272727272727\n",
            "Confusion Matrix:\n",
            "[[85 14]\n",
            " [21 34]]\n"
          ]
        }
      ]
    },
    {
      "cell_type": "markdown",
      "source": [
        "##SVM on Diabetes Dataset\n",
        "\n",
        "\n",
        "\n"
      ],
      "metadata": {
        "id": "F1MZOG6l7QaV"
      }
    },
    {
      "cell_type": "code",
      "source": [
        "classifier = svm.SVC(kernel='linear')\n",
        "classifier.fit(X_train, y_train)\n",
        "y_pred_train = classifier.predict(X_train)\n",
        "accuracy1 = accuracy_score(y_train, y_pred_train)\n",
        "print(f'Accuracy of the model during training: {accuracy1}')\n",
        "y_pred_test = classifier.predict(X_test)\n",
        "accuracy_svm1 = accuracy_score(y_test, y_pred_test)\n",
        "print(f'Accuracy of the model during testing: {accuracy_svm1}')\n",
        "conf_matrix = confusion_matrix(y_test, y_pred_test)\n",
        "print(f\"Confusion Matrix:\\n{conf_matrix}\")"
      ],
      "metadata": {
        "colab": {
          "base_uri": "https://localhost:8080/"
        },
        "id": "9DAvdL9q7aWr",
        "outputId": "7376fab5-c7fe-475a-91a8-14c04506b5c6"
      },
      "execution_count": null,
      "outputs": [
        {
          "output_type": "stream",
          "name": "stdout",
          "text": [
            "Accuracy of the model during training: 0.7719869706840391\n",
            "Accuracy of the model during testing: 0.7792207792207793\n",
            "Confusion Matrix:\n",
            "[[89 10]\n",
            " [24 31]]\n"
          ]
        }
      ]
    },
    {
      "cell_type": "markdown",
      "source": [
        "##Decision Tree on Diabetes Dataset"
      ],
      "metadata": {
        "id": "6SNoTCsZDgRP"
      }
    },
    {
      "cell_type": "code",
      "source": [
        "tree_classifier = DecisionTreeClassifier(max_depth=2, criterion='entropy')\n",
        "tree_classifier.fit(X_train, y_train)\n",
        "y_pred_train = tree_classifier.predict(X_train)\n",
        "accuracy1 = accuracy_score(y_train, y_pred_train)\n",
        "print(f'Accuracy of the model during training: {accuracy1}')\n",
        "y_pred_test = tree_classifier.predict(X_test)\n",
        "accuracy_dt1 = accuracy_score(y_test, y_pred_test)\n",
        "print(f'Accuracy of the model during testing: {accuracy_dt1}')\n",
        "conf_matrix = confusion_matrix(y_test, y_pred_test)\n",
        "print(f\"Confusion Matrix:\\n{conf_matrix}\")"
      ],
      "metadata": {
        "colab": {
          "base_uri": "https://localhost:8080/"
        },
        "id": "0mAn69BGDr21",
        "outputId": "17ccf17f-a2e4-4131-b5c3-ab7a0d17278e"
      },
      "execution_count": null,
      "outputs": [
        {
          "output_type": "stream",
          "name": "stdout",
          "text": [
            "Accuracy of the model during training: 0.7361563517915309\n",
            "Accuracy of the model during testing: 0.7337662337662337\n",
            "Confusion Matrix:\n",
            "[[77 22]\n",
            " [19 36]]\n"
          ]
        }
      ]
    },
    {
      "cell_type": "markdown",
      "source": [
        "## KNN on Diabetes Dataset"
      ],
      "metadata": {
        "id": "7SRr2CEJEQI5"
      }
    },
    {
      "cell_type": "code",
      "source": [
        "knn = KNeighborsClassifier(n_neighbors=5)\n",
        "knn.fit(X_train, y_train)\n",
        "y_pred_train = knn.predict(X_train)\n",
        "accuracy1 = accuracy_score(y_train, y_pred_train)\n",
        "print(f'Accuracy of the model during training: {accuracy1}')\n",
        "y_pred_test = knn.predict(X_test)\n",
        "accuracy_knn1 = accuracy_score(y_test, y_pred_test)\n",
        "print(f'Accuracy of the model during testing: {accuracy_knn1}')\n",
        "conf_matrix = confusion_matrix(y_test, y_pred_test)\n",
        "print(f\"Confusion Matrix:\\n{conf_matrix}\")"
      ],
      "metadata": {
        "colab": {
          "base_uri": "https://localhost:8080/"
        },
        "id": "4FFXS93QEWmX",
        "outputId": "18dd907a-4298-44c0-bd33-5c31d89c1d50"
      },
      "execution_count": null,
      "outputs": [
        {
          "output_type": "stream",
          "name": "stdout",
          "text": [
            "Accuracy of the model during training: 0.8192182410423453\n",
            "Accuracy of the model during testing: 0.8051948051948052\n",
            "Confusion Matrix:\n",
            "[[90  9]\n",
            " [21 34]]\n"
          ]
        }
      ]
    },
    {
      "cell_type": "markdown",
      "source": [
        "# Random Forest on Diabetes Dataset"
      ],
      "metadata": {
        "id": "uZ1fnqAzwKv-"
      }
    },
    {
      "cell_type": "code",
      "source": [
        "from sklearn.ensemble import RandomForestClassifier\n",
        "clf = RandomForestClassifier(\n",
        "    n_estimators=100,  # Use more trees\n",
        "    max_depth=100,  # Decrease max depth\n",
        "    min_samples_split=20,  # Increase min samples split\n",
        "    min_samples_leaf=1,\n",
        "    max_features='sqrt',\n",
        "    random_state=5\n",
        ")\n",
        "\n",
        "# Fit the classifier and make predictions\n",
        "clf.fit(X_train, y_train)\n",
        "y_pred_test = clf.predict(X_test)\n",
        "\n",
        "accuracy_rf1 = accuracy_score(y_test, y_pred_test)\n",
        "# Print the accuracy score\n",
        "print(f\"Accuracy: {accuracy_rf1}\")\n",
        "\n",
        "# Print the accuracy score on the training set\n",
        "y_pred_train = clf.predict(X_train)\n",
        "print(f\"Training Accuracy: {accuracy_score(y_train, y_pred_train)}\")\n",
        "conf_matrix = confusion_matrix(y_test, y_pred_test)\n",
        "print(f\"Confusion Matrix:\\n{conf_matrix}\")"
      ],
      "metadata": {
        "colab": {
          "base_uri": "https://localhost:8080/"
        },
        "id": "Y4vaFXcFwQ2n",
        "outputId": "5bd56f8c-5e62-410c-f13c-33cf118c3ca9"
      },
      "execution_count": null,
      "outputs": [
        {
          "output_type": "stream",
          "name": "stdout",
          "text": [
            "Accuracy: 0.8116883116883117\n",
            "Training Accuracy: 0.8811074918566775\n",
            "Confusion Matrix:\n",
            "[[86 13]\n",
            " [16 39]]\n"
          ]
        }
      ]
    },
    {
      "cell_type": "markdown",
      "source": [
        "##Bar Graph of Accuracy vs Classification Model of Diabetes Dataset"
      ],
      "metadata": {
        "id": "6VwrpsBWnGL8"
      }
    },
    {
      "cell_type": "code",
      "source": [
        "models = [\"kNN\", \"SVM\", \"Naive Bayes\", \"Random Forest\", \"Decision Tree\"]\n",
        "accuracies = [accuracy_knn1, accuracy_svm1, accuracy_nb1, accuracy_rf1, accuracy_dt1]\n",
        "\n",
        "# Create a bar plot\n",
        "plt.figure(figsize=(10, 6))\n",
        "plt.bar(models, accuracies, color='skyblue', edgecolor='black')\n",
        "plt.xlabel(\"Classification Models\")\n",
        "plt.ylabel(\"Accuracy\")\n",
        "plt.title(\"Comparative Analysis of Classification Models of DataSet1\")\n",
        "plt.ylim(0, 1)  # Set y-axis limits (adjust as needed)\n",
        "\n",
        "# Add labels to each bar\n",
        "for i, acc in enumerate(accuracies):\n",
        "    plt.text(i, acc + 0.02, f\"{acc:.3f}\", ha='center', va='bottom')\n",
        "\n",
        "plt.show()"
      ],
      "metadata": {
        "colab": {
          "base_uri": "https://localhost:8080/",
          "height": 564
        },
        "id": "QW7UB7IxnIRV",
        "outputId": "4275569d-aa65-4dc3-9d39-7ab085562aa4"
      },
      "execution_count": null,
      "outputs": [
        {
          "output_type": "display_data",
          "data": {
            "text/plain": [
              "<Figure size 1000x600 with 1 Axes>"
            ],
            "image/png": "[encoded data removed]"
          },
          "metadata": {}
        }
      ]
    },
    {
      "cell_type": "markdown",
      "source": [
        "## Diabetes Prediction Dataset\n"
      ],
      "metadata": {
        "id": "ZRRJHk6PCPUs"
      }
    },
    {
      "cell_type": "code",
      "source": [
        "file_path3 = \"1WbaIkPYKzAaP_6_wB9tOkVL6OvFsetFY\"\n",
        "url3 = f\"https://drive.google.com/uc?export=download&id={file_path3}\"\n",
        "data3 = pd.read_csv(url3)\n",
        "print(data3)\n",
        "\n",
        "\n",
        "# Create an instance of LabelEncoder\n",
        "lab = LabelEncoder()\n",
        "\n",
        "# Perform label encoding on the 'my_column' column\n",
        "data3['gender'] = lab.fit_transform(data3['gender'])\n",
        "data3['smoking_history'] = lab.fit_transform(data3['smoking_history'])\n",
        "\n",
        "X = data3.drop(columns=['diabetes'],axis=1)\n",
        "Y = data3['diabetes']\n",
        "# Standardize the features\n",
        "scaler = StandardScaler()\n",
        "scaler.fit(X)\n",
        "standarized_data = scaler.transform(X)\n",
        "X = standarized_data\n",
        "\n",
        "\n",
        "X_train, X_test, y_train, y_test = train_test_split(X, Y, test_size=0.2, random_state=1)\n",
        "print(data3)"
      ],
      "metadata": {
        "colab": {
          "base_uri": "https://localhost:8080/"
        },
        "id": "qscaqxUVBw0o",
        "outputId": "cc6d327d-d5c7-4daf-b25a-732d982a22d1"
      },
      "execution_count": null,
      "outputs": [
        {
          "output_type": "stream",
          "name": "stdout",
          "text": [
            "       gender   age  hypertension  heart_disease smoking_history    bmi  \\\n",
            "0      Female  80.0             0              1           never  25.19   \n",
            "1      Female  54.0             0              0         No Info  27.32   \n",
            "2        Male  28.0             0              0           never  27.32   \n",
            "3      Female  36.0             0              0         current  23.45   \n",
            "4        Male  76.0             1              1         current  20.14   \n",
            "...       ...   ...           ...            ...             ...    ...   \n",
            "99995  Female  80.0             0              0         No Info  27.32   \n",
            "99996  Female   2.0             0              0         No Info  17.37   \n",
            "99997    Male  66.0             0              0          former  27.83   \n",
            "99998  Female  24.0             0              0           never  35.42   \n",
            "99999  Female  57.0             0              0         current  22.43   \n",
            "\n",
            "       HbA1c_level  blood_glucose_level  diabetes  \n",
            "0              6.6                  140         0  \n",
            "1              6.6                   80         0  \n",
            "2              5.7                  158         0  \n",
            "3              5.0                  155         0  \n",
            "4              4.8                  155         0  \n",
            "...            ...                  ...       ...  \n",
            "99995          6.2                   90         0  \n",
            "99996          6.5                  100         0  \n",
            "99997          5.7                  155         0  \n",
            "99998          4.0                  100         0  \n",
            "99999          6.6                   90         0  \n",
            "\n",
            "[100000 rows x 9 columns]\n",
            "       gender   age  hypertension  heart_disease  smoking_history    bmi  \\\n",
            "0           0  80.0             0              1                4  25.19   \n",
            "1           0  54.0             0              0                0  27.32   \n",
            "2           1  28.0             0              0                4  27.32   \n",
            "3           0  36.0             0              0                1  23.45   \n",
            "4           1  76.0             1              1                1  20.14   \n",
            "...       ...   ...           ...            ...              ...    ...   \n",
            "99995       0  80.0             0              0                0  27.32   \n",
            "99996       0   2.0             0              0                0  17.37   \n",
            "99997       1  66.0             0              0                3  27.83   \n",
            "99998       0  24.0             0              0                4  35.42   \n",
            "99999       0  57.0             0              0                1  22.43   \n",
            "\n",
            "       HbA1c_level  blood_glucose_level  diabetes  \n",
            "0              6.6                  140         0  \n",
            "1              6.6                   80         0  \n",
            "2              5.7                  158         0  \n",
            "3              5.0                  155         0  \n",
            "4              4.8                  155         0  \n",
            "...            ...                  ...       ...  \n",
            "99995          6.2                   90         0  \n",
            "99996          6.5                  100         0  \n",
            "99997          5.7                  155         0  \n",
            "99998          4.0                  100         0  \n",
            "99999          6.6                   90         0  \n",
            "\n",
            "[100000 rows x 9 columns]\n"
          ]
        }
      ]
    },
    {
      "cell_type": "markdown",
      "source": [
        "## Naive Bayes on Diabetes Prediction Dataset\n",
        "\n",
        "\n"
      ],
      "metadata": {
        "id": "FonozpfXmHrO"
      }
    },
    {
      "cell_type": "code",
      "source": [
        "gnb = GaussianNB()\n",
        "gnb.fit(X_train, y_train)\n",
        "y_pred_train = gnb.predict(X_train)\n",
        "accuracy1 = accuracy_score(y_train, y_pred_train)\n",
        "print(f'Accuracy of the model during training: {accuracy1}')\n",
        "y_pred_test = gnb.predict(X_test)\n",
        "accuracy_nb2 = accuracy_score(y_test, y_pred_test)\n",
        "print(f'Accuracy of the model during testing: {accuracy_nb2}')\n",
        "conf_matrix = confusion_matrix(y_test, y_pred_test)\n",
        "print(f\"Confusion Matrix:\\n{conf_matrix}\")"
      ],
      "metadata": {
        "colab": {
          "base_uri": "https://localhost:8080/"
        },
        "id": "eak9Yiv2mdL5",
        "outputId": "84c0eba3-cae8-48a8-816c-7616cc0f8166"
      },
      "execution_count": null,
      "outputs": [
        {
          "output_type": "stream",
          "name": "stdout",
          "text": [
            "Accuracy of the model during training: 0.903\n",
            "Accuracy of the model during testing: 0.9038\n",
            "Confusion Matrix:\n",
            "[[16968  1331]\n",
            " [  593  1108]]\n"
          ]
        }
      ]
    },
    {
      "cell_type": "markdown",
      "source": [
        "## SVM on Diabetes Prediction Dataset"
      ],
      "metadata": {
        "id": "DU5Jwqw9namR"
      }
    },
    {
      "cell_type": "code",
      "source": [
        "classifier = svm.SVC(kernel='linear')\n",
        "classifier.fit(X_train, y_train)\n",
        "y_pred_train = classifier.predict(X_train)\n",
        "accuracy1 = accuracy_score(y_train, y_pred_train)\n",
        "print(f'Accuracy of the model during training: {accuracy1}')\n",
        "y_pred_test = classifier.predict(X_test)\n",
        "accuracy_svm2 = accuracy_score(y_test, y_pred_test)\n",
        "print(f'Accuracy of the model during testing: {accuracy_svm2}')\n",
        "conf_matrix = confusion_matrix(y_test, y_pred_test)\n",
        "print(f\"Confusion Matrix:\\n{conf_matrix}\")"
      ],
      "metadata": {
        "colab": {
          "base_uri": "https://localhost:8080/"
        },
        "id": "bm3IELfjnhcT",
        "outputId": "c7ef19d1-a49d-4eb6-8b16-25b1bc62f752"
      },
      "execution_count": null,
      "outputs": [
        {
          "output_type": "stream",
          "name": "stdout",
          "text": [
            "Accuracy of the model during training: 0.9608\n",
            "Accuracy of the model during testing: 0.9613\n",
            "Confusion Matrix:\n",
            "[[18215    84]\n",
            " [  690  1011]]\n"
          ]
        }
      ]
    },
    {
      "cell_type": "markdown",
      "source": [
        "## Decision Tree on Diabetes Prediction Dataset"
      ],
      "metadata": {
        "id": "Tw118motxSVj"
      }
    },
    {
      "cell_type": "code",
      "source": [
        "tree_classifier = DecisionTreeClassifier(max_depth=2, criterion='entropy')\n",
        "tree_classifier.fit(X_train, y_train)\n",
        "y_pred_train = tree_classifier.predict(X_train)\n",
        "accuracy1 = accuracy_score(y_train, y_pred_train)\n",
        "print(f'Accuracy of the model during training: {accuracy1}')\n",
        "y_pred_test = tree_classifier.predict(X_test)\n",
        "accuracy_dt2 = accuracy_score(y_test, y_pred_test)\n",
        "print(f'Accuracy of the model during testing: {accuracy_dt2}')\n",
        "conf_matrix = confusion_matrix(y_test, y_pred_test)\n",
        "print(f\"Confusion Matrix:\\n{conf_matrix}\")"
      ],
      "metadata": {
        "id": "lqah8_XnxcPk",
        "colab": {
          "base_uri": "https://localhost:8080/"
        },
        "outputId": "92433ad3-c562-488d-d96d-d54465c5ac6a"
      },
      "execution_count": null,
      "outputs": [
        {
          "output_type": "stream",
          "name": "stdout",
          "text": [
            "Accuracy of the model during training: 0.971725\n",
            "Accuracy of the model during testing: 0.97245\n",
            "Confusion Matrix:\n",
            "[[18299     0]\n",
            " [  551  1150]]\n"
          ]
        }
      ]
    },
    {
      "cell_type": "markdown",
      "source": [
        "## KNN on Diabetes Prediction Dataset"
      ],
      "metadata": {
        "id": "CUwEitNHKwEf"
      }
    },
    {
      "cell_type": "code",
      "source": [
        "knn = KNeighborsClassifier(n_neighbors=5)\n",
        "knn.fit(X_train, y_train)\n",
        "y_pred_train = knn.predict(X_train)\n",
        "accuracy1 = accuracy_score(y_train, y_pred_train)\n",
        "print(f'Accuracy of the model during training: {accuracy1}')\n",
        "y_pred_test = knn.predict(X_test)\n",
        "accuracy_knn2 = accuracy_score(y_test, y_pred_test)\n",
        "print(f'Accuracy of the model during testing: {accuracy_knn2}')\n",
        "conf_matrix = confusion_matrix(y_test, y_pred_test)\n",
        "print(f\"Confusion Matrix:\\n{conf_matrix}\")"
      ],
      "metadata": {
        "colab": {
          "base_uri": "https://localhost:8080/"
        },
        "id": "423PkVsxK5Mf",
        "outputId": "f2d42d21-4121-4fa6-f36e-ee2820d50e91"
      },
      "execution_count": null,
      "outputs": [
        {
          "output_type": "stream",
          "name": "stdout",
          "text": [
            "Accuracy of the model during training: 0.96985\n",
            "Accuracy of the model during testing: 0.9611\n",
            "Confusion Matrix:\n",
            "[[18149   150]\n",
            " [  628  1073]]\n"
          ]
        }
      ]
    },
    {
      "cell_type": "markdown",
      "source": [
        "# Random Forest on Diabetes Prediction Dataset"
      ],
      "metadata": {
        "id": "57NswFgmwsoK"
      }
    },
    {
      "cell_type": "code",
      "source": [
        "from sklearn.ensemble import RandomForestClassifier\n",
        "clf = RandomForestClassifier(\n",
        "    n_estimators=100,  # Use more trees\n",
        "    max_depth=None,  # Decrease max depth\n",
        "    min_samples_split=2,  # Increase min samples split\n",
        "    min_samples_leaf=1,\n",
        "    max_features='sqrt',\n",
        "    random_state=5\n",
        ")\n",
        "\n",
        "# Fit the classifier and make predictions\n",
        "clf.fit(X_train, y_train)\n",
        "y_pred_test = clf.predict(X_test)\n",
        "\n",
        "accuracy_rf2=accuracy_score(y_test, y_pred_test)\n",
        "# Print the accuracy score\n",
        "print(f\"Accuracy: {accuracy_rf2}\")\n",
        "\n",
        "# Print the accuracy score on the training set\n",
        "y_pred_train = clf.predict(X_train)\n",
        "print(f\"Training Accuracy: {accuracy_score(y_train, y_pred_train)}\")\n",
        "conf_matrix = confusion_matrix(y_test, y_pred_test)\n",
        "print(f\"Confusion Matrix:\\n{conf_matrix}\")"
      ],
      "metadata": {
        "colab": {
          "base_uri": "https://localhost:8080/"
        },
        "id": "YoEZFqI2wzKP",
        "outputId": "07c8ec29-d069-4037-9a64-07e151325763"
      },
      "execution_count": null,
      "outputs": [
        {
          "output_type": "stream",
          "name": "stdout",
          "text": [
            "Accuracy: 0.97055\n",
            "Training Accuracy: 0.99925\n",
            "Confusion Matrix:\n",
            "[[18236    63]\n",
            " [  526  1175]]\n"
          ]
        }
      ]
    },
    {
      "cell_type": "markdown",
      "source": [
        "##Bar Graph of Accuracy vs Classification Model of Diabetes Prediction Dataset\n"
      ],
      "metadata": {
        "id": "SGq5wiv6nBQS"
      }
    },
    {
      "cell_type": "code",
      "source": [
        "models = [\"kNN\", \"SVM\", \"Naive Bayes\", \"Random Forest\", \"Decision Tree\"]\n",
        "accuracies = [accuracy_knn2, accuracy_svm2, accuracy_nb2, accuracy_rf2, accuracy_dt2]\n",
        "\n",
        "# Create a bar plot\n",
        "plt.figure(figsize=(10, 6))\n",
        "plt.bar(models, accuracies, color='skyblue', edgecolor='black')\n",
        "plt.xlabel(\"Classification Models\")\n",
        "plt.ylabel(\"Accuracy\")\n",
        "plt.title(\"Comparative Analysis of Classification Models of DataSet2\")\n",
        "plt.ylim(0, 1.1)  # Set y-axis limits (adjust as needed)\n",
        "\n",
        "# Add labels to each bar\n",
        "for i, acc in enumerate(accuracies):\n",
        "    plt.text(i, acc + 0.02, f\"{acc:.3f}\", ha='center', va='bottom')\n",
        "\n",
        "plt.show()"
      ],
      "metadata": {
        "colab": {
          "base_uri": "https://localhost:8080/",
          "height": 564
        },
        "id": "arZuwneLnCnl",
        "outputId": "29bd9053-7416-48db-d75a-1a86868083cf"
      },
      "execution_count": null,
      "outputs": [
        {
          "output_type": "display_data",
          "data": {
            "text/plain": [
              "<Figure size 1000x600 with 1 Axes>"
            ],
            "image/png": "[encoded data removed]"
          },
          "metadata": {}
        }
      ]
    },
    {
      "cell_type": "markdown",
      "source": [
        "## Diabetes Health Indicators Dataset"
      ],
      "metadata": {
        "id": "MJb5Vna0C3XK"
      }
    },
    {
      "cell_type": "code",
      "source": [
        "file_path4 = \"1rrFUSShewclzkPmfd7ZYW3EQyTzZWnLF\"\n",
        "url4 = f\"https://drive.google.com/uc?export=download&id={file_path4}\"\n",
        "data4 = pd.read_csv(url4)\n",
        "print(data4)\n",
        "\n",
        "X = data4.drop(columns=['Diabetes_012'],axis=1)\n",
        "Y = data4['Diabetes_012']\n",
        "\n",
        "# Standardize the features\n",
        "scaler = StandardScaler()\n",
        "scaler.fit(X)\n",
        "standarized_data = scaler.transform(X)\n",
        "X = standarized_data\n",
        "\n",
        "X_train, X_test, y_train, y_test = train_test_split(X, Y, test_size=0.2, random_state=1)"
      ],
      "metadata": {
        "colab": {
          "base_uri": "https://localhost:8080/"
        },
        "id": "LPNsYvg1Cx4x",
        "outputId": "2d4cf7ae-1b94-4f91-8b35-97b5a61f3e9a"
      },
      "execution_count": null,
      "outputs": [
        {
          "output_type": "stream",
          "name": "stdout",
          "text": [
            "        Diabetes_012  HighBP  HighChol  CholCheck  BMI  Smoker  Stroke  \\\n",
            "0                  0       1         1          1   40       1       0   \n",
            "1                  0       0         0          0   25       1       0   \n",
            "2                  0       1         1          1   28       0       0   \n",
            "3                  0       1         0          1   27       0       0   \n",
            "4                  0       1         1          1   24       0       0   \n",
            "...              ...     ...       ...        ...  ...     ...     ...   \n",
            "253675             0       1         1          1   45       0       0   \n",
            "253676             1       1         1          1   18       0       0   \n",
            "253677             0       0         0          1   28       0       0   \n",
            "253678             0       1         0          1   23       0       0   \n",
            "253679             1       1         1          1   25       0       0   \n",
            "\n",
            "        HeartDiseaseorAttack  PhysActivity  Fruits  ...  AnyHealthcare  \\\n",
            "0                          0             0       0  ...              1   \n",
            "1                          0             1       0  ...              0   \n",
            "2                          0             0       1  ...              1   \n",
            "3                          0             1       1  ...              1   \n",
            "4                          0             1       1  ...              1   \n",
            "...                      ...           ...     ...  ...            ...   \n",
            "253675                     0             0       1  ...              1   \n",
            "253676                     0             0       0  ...              1   \n",
            "253677                     0             1       1  ...              1   \n",
            "253678                     0             0       1  ...              1   \n",
            "253679                     1             1       1  ...              1   \n",
            "\n",
            "        NoDocbcCost  GenHlth  MentHlth  PhysHlth  DiffWalk  Sex  Age  \\\n",
            "0                 0        5        18        15         1    0    9   \n",
            "1                 1        3         0         0         0    0    7   \n",
            "2                 1        5        30        30         1    0    9   \n",
            "3                 0        2         0         0         0    0   11   \n",
            "4                 0        2         3         0         0    0   11   \n",
            "...             ...      ...       ...       ...       ...  ...  ...   \n",
            "253675            0        3         0         5         0    1    5   \n",
            "253676            0        4         0         0         1    0   11   \n",
            "253677            0        1         0         0         0    0    2   \n",
            "253678            0        3         0         0         0    1    7   \n",
            "253679            0        2         0         0         0    0    9   \n",
            "\n",
            "        Education  Income  \n",
            "0               4       3  \n",
            "1               6       1  \n",
            "2               4       8  \n",
            "3               3       6  \n",
            "4               5       4  \n",
            "...           ...     ...  \n",
            "253675          6       7  \n",
            "253676          2       4  \n",
            "253677          5       2  \n",
            "253678          5       1  \n",
            "253679          6       2  \n",
            "\n",
            "[253680 rows x 22 columns]\n"
          ]
        }
      ]
    },
    {
      "cell_type": "markdown",
      "source": [
        "##Naive Bayes on Diabetes Health Indicators Dataset"
      ],
      "metadata": {
        "id": "XvtEENmNfOox"
      }
    },
    {
      "cell_type": "code",
      "source": [
        "gnb = GaussianNB()\n",
        "gnb.fit(X_train, y_train)\n",
        "y_pred_train = gnb.predict(X_train)\n",
        "accuracy1 = accuracy_score(y_train, y_pred_train)\n",
        "print(f'Accuracy of the model during training: {accuracy1}')\n",
        "y_pred_test = gnb.predict(X_test)\n",
        "accuracy_nb3 = accuracy_score(y_test, y_pred_test)\n",
        "print(f'Accuracy of the model during testing: {accuracy_nb3}')\n",
        "conf_matrix = confusion_matrix(y_test, y_pred_test)\n",
        "print(f\"Confusion Matrix:\\n{conf_matrix}\")"
      ],
      "metadata": {
        "id": "0mJUTbmiDKsl",
        "colab": {
          "base_uri": "https://localhost:8080/"
        },
        "outputId": "388edbb4-cf5c-4a03-9aa8-1a92f2871110"
      },
      "execution_count": null,
      "outputs": [
        {
          "output_type": "stream",
          "name": "stdout",
          "text": [
            "Accuracy of the model during training: 0.7737848864711447\n",
            "Accuracy of the model during testing: 0.774538789025544\n",
            "Confusion Matrix:\n",
            "[[35267  8404]\n",
            " [ 3035  4030]]\n"
          ]
        }
      ]
    },
    {
      "cell_type": "markdown",
      "source": [
        "##SVM on Diabetes Health Indicators Dataset"
      ],
      "metadata": {
        "id": "hmUxVsiogFCG"
      }
    },
    {
      "cell_type": "code",
      "source": [
        "classifier = svm.SVC(kernel='linear')\n",
        "classifier.fit(X_train, y_train)\n",
        "y_pred_train = classifier.predict(X_train)\n",
        "accuracy1 = accuracy_score(y_train, y_pred_train)\n",
        "print(f'Accuracy of the model during training: {accuracy1}')\n",
        "y_pred_test = classifier.predict(X_test)\n",
        "accuracy_svm3 = accuracy_score(y_test, y_pred_test)\n",
        "print(f'Accuracy of the model during testing: {accuracy_svm3}')\n",
        "conf_matrix = confusion_matrix(y_test, y_pred_test)\n",
        "print(f\"Confusion Matrix:\\n{conf_matrix}\")"
      ],
      "metadata": {
        "id": "I-yQhZnPgD91",
        "colab": {
          "base_uri": "https://localhost:8080/"
        },
        "outputId": "60b08cb8-bd9b-40bc-f18d-033c25c89ac8"
      },
      "execution_count": null,
      "outputs": [
        {
          "output_type": "stream",
          "name": "stdout",
          "text": [
            "Accuracy of the model during training: 0.8606462866603595\n",
            "Accuracy of the model during testing: 0.8607497634815515\n",
            "Confusion Matrix:\n",
            "[[43671     0]\n",
            " [ 7065     0]]\n"
          ]
        }
      ]
    },
    {
      "cell_type": "markdown",
      "source": [
        "##Decision Tree on Diabetes Health Indicators Dataset"
      ],
      "metadata": {
        "id": "Ikv53frHgKzm"
      }
    },
    {
      "cell_type": "code",
      "source": [
        "tree_classifier = DecisionTreeClassifier(max_depth=2, criterion='entropy')\n",
        "tree_classifier.fit(X_train, y_train)\n",
        "y_pred_train = tree_classifier.predict(X_train)\n",
        "accuracy1 = accuracy_score(y_train, y_pred_train)\n",
        "print(f'Accuracy of the model during training: {accuracy1}')\n",
        "y_pred_test = tree_classifier.predict(X_test)\n",
        "accuracy_dt3 = accuracy_score(y_test, y_pred_test)\n",
        "print(f'Accuracy of the model during testing: {accuracy_dt3}')\n",
        "conf_matrix = confusion_matrix(y_test, y_pred_test)\n",
        "print(f\"Confusion Matrix:\\n{conf_matrix}\")"
      ],
      "metadata": {
        "id": "L_Gjbfh1e0xJ",
        "colab": {
          "base_uri": "https://localhost:8080/"
        },
        "outputId": "1b5e33ed-bc8c-44e4-e0b2-64e73d4ec30b"
      },
      "execution_count": null,
      "outputs": [
        {
          "output_type": "stream",
          "name": "stdout",
          "text": [
            "Accuracy of the model during training: 0.8606462866603595\n",
            "Accuracy of the model during testing: 0.8607497634815515\n",
            "Confusion Matrix:\n",
            "[[43671     0]\n",
            " [ 7065     0]]\n"
          ]
        }
      ]
    },
    {
      "cell_type": "markdown",
      "source": [
        "##KNN on Diabetes Health Indicators Dataset"
      ],
      "metadata": {
        "id": "2LzVriuAf_Qf"
      }
    },
    {
      "cell_type": "code",
      "source": [
        "knn = KNeighborsClassifier(n_neighbors=5)\n",
        "knn.fit(X_train, y_train)\n",
        "y_pred_train = knn.predict(X_train)\n",
        "accuracy1 = accuracy_score(y_train, y_pred_train)\n",
        "print(f'Accuracy of the model during training: {accuracy1}')\n",
        "y_pred_test = knn.predict(X_test)\n",
        "accuracy_knn3 = accuracy_score(y_test, y_pred_test)\n",
        "print(f'Accuracy of the model during testing: {accuracy_knn3}')\n",
        "conf_matrix = confusion_matrix(y_test, y_pred_test)\n",
        "print(f\"Confusion Matrix:\\n{conf_matrix}\")"
      ],
      "metadata": {
        "id": "rSrIAbSnfjUW",
        "colab": {
          "base_uri": "https://localhost:8080/"
        },
        "outputId": "a59fb743-8097-47f7-f758-396321ab89a1"
      },
      "execution_count": null,
      "outputs": [
        {
          "output_type": "stream",
          "name": "stdout",
          "text": [
            "Accuracy of the model during training: 0.8866830258593503\n",
            "Accuracy of the model during testing: 0.8474061810154525\n",
            "Confusion Matrix:\n",
            "[[41536  2135]\n",
            " [ 5607  1458]]\n"
          ]
        }
      ]
    },
    {
      "cell_type": "markdown",
      "source": [
        "# Random Forest on Diabetes Health Indicators Dataset"
      ],
      "metadata": {
        "id": "HVkOpofny4_n"
      }
    },
    {
      "cell_type": "code",
      "source": [
        "from sklearn.ensemble import RandomForestClassifier\n",
        "clf = RandomForestClassifier(\n",
        "    n_estimators=100,  # Use more trees\n",
        "    max_depth=None,  # Decrease max depth\n",
        "    min_samples_split=2,  # Increase min samples split\n",
        "    min_samples_leaf=1,\n",
        "    max_features='sqrt',\n",
        "    random_state=5\n",
        ")\n",
        "\n",
        "# Fit the classifier and make predictions\n",
        "clf.fit(X_train, y_train)\n",
        "y_pred_test = clf.predict(X_test)\n",
        "\n",
        "accuracy_rf3=accuracy_score(y_test, y_pred_test)\n",
        "# Print the accuracy score\n",
        "print(f\"Accuracy: {accuracy_rf3}\")\n",
        "\n",
        "# Print the accuracy score on the training set\n",
        "y_pred_train = clf.predict(X_train)\n",
        "print(f\"Training Accuracy: {accuracy_score(y_train, y_pred_train)}\")\n",
        "conf_matrix = confusion_matrix(y_test, y_pred_test)\n",
        "print(f\"Confusion Matrix:\\n{conf_matrix}\")"
      ],
      "metadata": {
        "id": "dEzPb5Gtf76F",
        "colab": {
          "base_uri": "https://localhost:8080/"
        },
        "outputId": "f64d6429-42f5-4f9b-e196-147a61831774"
      },
      "execution_count": null,
      "outputs": [
        {
          "output_type": "stream",
          "name": "stdout",
          "text": [
            "Accuracy: 0.8590941343424787\n",
            "Training Accuracy: 0.9943728319142227\n",
            "Confusion Matrix:\n",
            "[[42393  1278]\n",
            " [ 5871  1194]]\n"
          ]
        }
      ]
    },
    {
      "cell_type": "markdown",
      "source": [
        "##Bar Graph of Accuracy vs Classification Model of Diabetes Health Indicators Dataset"
      ],
      "metadata": {
        "id": "_VhvaWesmy2G"
      }
    },
    {
      "cell_type": "code",
      "source": [
        "models = [\"kNN\", \"SVM\", \"Naive Bayes\", \"Random Forest\", \"Decision Tree\"]\n",
        "accuracies = [accuracy_knn3, accuracy_svm3, accuracy_nb3, accuracy_rf3, accuracy_dt3]\n",
        "\n",
        "# Create a bar plot\n",
        "plt.figure(figsize=(10, 6))\n",
        "plt.bar(models, accuracies, color='skyblue', edgecolor='black')\n",
        "plt.xlabel(\"Classification Models\")\n",
        "plt.ylabel(\"Accuracy\")\n",
        "plt.title(\"Comparative Analysis of Classification Models of DataSet3\")\n",
        "plt.ylim(0, 1)  # Set y-axis limits (adjust as needed)\n",
        "\n",
        "# Add labels to each bar\n",
        "for i, acc in enumerate(accuracies):\n",
        "    plt.text(i, acc + 0.02, f\"{acc:.3f}\", ha='center', va='bottom')\n",
        "\n",
        "plt.show()"
      ],
      "metadata": {
        "colab": {
          "base_uri": "https://localhost:8080/",
          "height": 564
        },
        "id": "IBq3r75wmxj1",
        "outputId": "b55ca0b0-dbfd-41e7-db7c-ba3541fdaf11"
      },
      "execution_count": null,
      "outputs": [
        {
          "output_type": "display_data",
          "data": {
            "text/plain": [
              "<Figure size 1000x600 with 1 Axes>"
            ],
            "image/png": "[encoded data removed]"
          },
          "metadata": {}
        }
      ]
    },
    {
      "cell_type": "markdown",
      "source": [
        "##Summarized"
      ],
      "metadata": {
        "id": "Ao8tNwyB6gf2"
      }
    },
    {
      "cell_type": "code",
      "source": [
        "datasets = [\"Diabetes Dataset\", \"Diabetes Prediction Dataset\", \"Diabetes Health Indicators Dataset\"]\n",
        "models = [\"kNN\", \"SVM\", \"Naive Bayes\", \"Random Forest\", \"Decision Tree\"]\n",
        "accuracies_A = [accuracy_knn1, accuracy_svm1, accuracy_nb1, accuracy_rf1, accuracy_dt1]  # Accuracy scores for Dataset A\n",
        "accuracies_B = [accuracy_knn2, accuracy_svm2, accuracy_nb2, accuracy_rf2, accuracy_dt2]  # Accuracy scores for Dataset B\n",
        "accuracies_C = [accuracy_knn3, accuracy_svm3, accuracy_nb3, accuracy_rf3, accuracy_dt3]  # Accuracy scores for Dataset C\n",
        "\n",
        "# Create a DataFrame with models as columns and datasets as rows\n",
        "comparison_df = pd.DataFrame({\n",
        "    \"Model\": models,\n",
        "    datasets[0]: accuracies_A,\n",
        "    datasets[1]: accuracies_B,\n",
        "    datasets[2]: accuracies_C\n",
        "})\n",
        "\n",
        "# Print the final comparison table\n",
        "print(comparison_df)\n"
      ],
      "metadata": {
        "id": "K2kDJXaP6dlW",
        "colab": {
          "base_uri": "https://localhost:8080/"
        },
        "outputId": "d756d7f0-d72e-4cd6-a943-a3b81f5cf1c6"
      },
      "execution_count": null,
      "outputs": [
        {
          "output_type": "stream",
          "name": "stdout",
          "text": [
            "           Model  Diabetes Dataset  Diabetes Prediction Dataset  \\\n",
            "0            kNN          0.805195                      0.96110   \n",
            "1            SVM          0.779221                      0.96130   \n",
            "2    Naive Bayes          0.772727                      0.90380   \n",
            "3  Random Forest          0.811688                      0.97055   \n",
            "4  Decision Tree          0.733766                      0.97245   \n",
            "\n",
            "   Diabetes Health Indicators Dataset  \n",
            "0                            0.847406  \n",
            "1                            0.860750  \n",
            "2                            0.774539  \n",
            "3                            0.859094  \n",
            "4                            0.860750  \n"
          ]
        }
      ]
    },
    {
      "cell_type": "code",
      "source": [],
      "metadata": {
        "id": "97WKaTgZju38"
      },
      "execution_count": null,
      "outputs": []
    }
  ]
}