{
  "nbformat": 4,
  "nbformat_minor": 0,
  "metadata": {
    "colab": {
      "provenance": [],
      "include_colab_link": true
    },
    "kernelspec": {
      "name": "python3",
      "display_name": "Python 3"
    },
    "language_info": {
      "name": "python"
    }
  },
  "cells": [
    {
      "cell_type": "markdown",
      "metadata": {
        "id": "view-in-github",
        "colab_type": "text"
      },
      "source": [
        "<a href=\"https://colab.research.google.com/github/hardik1057/Diabetes_classification/blob/main/DA_Project.ipynb\" target=\"_parent\"><img src=\"https://colab.research.google.com/assets/colab-badge.svg\" alt=\"Open In Colab\"/></a>"
      ]
    },
    {
      "cell_type": "code",
      "source": [
        "import pandas as pd\n",
        "from sklearn.model_selection import train_test_split\n",
        "from sklearn.naive_bayes import GaussianNB\n",
        "from sklearn.metrics import accuracy_score\n",
        "from sklearn.preprocessing import StandardScaler\n",
        "from sklearn import svm"
      ],
      "metadata": {
        "id": "nBAcW5428L5n"
      },
      "execution_count": 2,
      "outputs": []
    },
    {
      "cell_type": "code",
      "source": [
        "from google.colab import drive\n",
        "drive.mount('/content/drive')\n"
      ],
      "metadata": {
        "colab": {
          "base_uri": "https://localhost:8080/"
        },
        "id": "J982e36_5dEn",
        "outputId": "1888750f-8791-43a5-b634-99ede43788ab"
      },
      "execution_count": 5,
      "outputs": [
        {
          "output_type": "stream",
          "name": "stdout",
          "text": [
            "Mounted at /content/drive\n"
          ]
        }
      ]
    },
    {
      "cell_type": "code",
      "source": [
        "file_path = '/content/drive/MyDrive/research/DA_project data /DataSet_1.csv'\n",
        "data1 = pd.read_csv(file_path)\n",
        "print(data1.head(2))\n",
        "file_path = '/content/drive/MyDrive/research/DA_project data /DataSet_2.csv'\n",
        "data2 = pd.read_csv(file_path)\n",
        "print(data2.head(2))\n",
        "file_path = '/content/drive/MyDrive/research/DA_project data /DataSet_3.csv'\n",
        "data3 = pd.read_csv(file_path)\n",
        "print(data3.head(2))\n",
        "file_path = '/content/drive/MyDrive/research/DA_project data /DataSet_4.csv'\n",
        "data4 = pd.read_csv(file_path)\n",
        "print(data4.head(2))"
      ],
      "metadata": {
        "colab": {
          "base_uri": "https://localhost:8080/"
        },
        "id": "KXiCYFCB2bbm",
        "outputId": "b73d4fe7-c992-45a9-cfc4-208e3c6f932c"
      },
      "execution_count": 9,
      "outputs": [
        {
          "output_type": "stream",
          "name": "stdout",
          "text": [
            "   Pregnancies  Glucose  BloodPressure  SkinThickness  Insulin   BMI  \\\n",
            "0            6      148             72             35        0  33.6   \n",
            "1            1       85             66             29        0  26.6   \n",
            "\n",
            "   DiabetesPedigreeFunction  Age  Outcome  \n",
            "0                     0.627   50        1  \n",
            "1                     0.351   31        0  \n",
            "     id   chol  stab.glu   hdl  ratio  glyhb    location  age  gender  height  \\\n",
            "0  1000  203.0        82  56.0    3.6   4.31  Buckingham   46  female    62.0   \n",
            "1  1001  165.0        97  24.0    6.9   4.44  Buckingham   29  female    64.0   \n",
            "\n",
            "   weight   frame  bp.1s  bp.1d  bp.2s  bp.2d  waist   hip  time.ppn  \\\n",
            "0   121.0  medium  118.0   59.0    NaN    NaN   29.0  38.0     720.0   \n",
            "1   218.0   large  112.0   68.0    NaN    NaN   46.0  48.0     360.0   \n",
            "\n",
            "   Prediction  \n",
            "0           0  \n",
            "1           0  \n",
            "   gender   age  hypertension  heart_disease smoking_history    bmi  \\\n",
            "0  Female  80.0             0              1           never  25.19   \n",
            "1  Female  54.0             0              0         No Info  27.32   \n",
            "\n",
            "   HbA1c_level  blood_glucose_level  diabetes  \n",
            "0          6.6                  140         0  \n",
            "1          6.6                   80         0  \n",
            "   Diabetes_012  HighBP  HighChol  CholCheck  BMI  Smoker  Stroke  \\\n",
            "0             0       1         1          1   40       1       0   \n",
            "1             0       0         0          0   25       1       0   \n",
            "\n",
            "   HeartDiseaseorAttack  PhysActivity  Fruits  ...  AnyHealthcare  \\\n",
            "0                     0             0       0  ...              1   \n",
            "1                     0             1       0  ...              0   \n",
            "\n",
            "   NoDocbcCost  GenHlth  MentHlth  PhysHlth  DiffWalk  Sex  Age  Education  \\\n",
            "0            0        5        18        15         1    0    9          4   \n",
            "1            1        3         0         0         0    0    7          6   \n",
            "\n",
            "   Income  \n",
            "0       3  \n",
            "1       1  \n",
            "\n",
            "[2 rows x 22 columns]\n"
          ]
        }
      ]
    },
    {
      "cell_type": "markdown",
      "source": [
        "##Naive Bayes on DataSet_1\n",
        "\n",
        "\n"
      ],
      "metadata": {
        "id": "438LNSK32PNc"
      }
    },
    {
      "cell_type": "markdown",
      "source": [
        "1- Importing Data from google drive\n",
        "  1. first mount your google drive to google colab\n",
        "  2. run the code below\n"
      ],
      "metadata": {
        "id": "_K_hPPzh3UE9"
      }
    },
    {
      "cell_type": "code",
      "source": [
        "\n",
        "X = data1[['Pregnancies', 'Glucose', 'BloodPressure', 'SkinThickness', 'Insulin', 'BMI', 'DiabetesPedigreeFunction', 'Age']]\n",
        "y = data1['Outcome']\n",
        "\n",
        "# Standardize the features\n",
        "scaler = StandardScaler()\n",
        "scaler.fit(X)\n",
        "standarized_data = scaler.transform(X)\n",
        "X = standarized_data\n",
        "#X = scaler.fit_transform(X)\n",
        "\n",
        "X_train, X_test, y_train, y_test = train_test_split(X, y, test_size=0.2, random_state=1)\n",
        "\n",
        "gnb = GaussianNB()\n",
        "\n",
        "gnb.fit(X_train, y_train)\n",
        "\n",
        "y_pred = gnb.predict(X_test)\n",
        "\n",
        "accuracy2 = accuracy_score(y_test, y_pred)\n",
        "\n",
        "print(f'Accuracy of the model: {accuracy2}')\n"
      ],
      "metadata": {
        "colab": {
          "base_uri": "https://localhost:8080/"
        },
        "id": "ld7xcBeK5fY2",
        "outputId": "4e5482c9-7c93-41d1-8cda-06f749f9fac1"
      },
      "execution_count": null,
      "outputs": [
        {
          "output_type": "stream",
          "name": "stdout",
          "text": [
            "Accuracy of the model: 0.7727272727272727\n"
          ]
        }
      ]
    },
    {
      "cell_type": "markdown",
      "source": [
        "##SVM on DataSet_1\n",
        "\n",
        "\n",
        "\n"
      ],
      "metadata": {
        "id": "F1MZOG6l7QaV"
      }
    },
    {
      "cell_type": "code",
      "source": [
        "classifier = svm.SVC(kernel='linear')\n",
        "classifier.fit(X_train, y_train)\n",
        "test_pred = classifier.predict(X_test)\n",
        "accuracy2 = accuracy_score(test_pred, y_test)\n",
        "print('Accuracy of the model = {}'.format(accuracy2))"
      ],
      "metadata": {
        "colab": {
          "base_uri": "https://localhost:8080/"
        },
        "id": "9DAvdL9q7aWr",
        "outputId": "a76d9185-f3d7-4171-e22b-a9fd7de7faaa"
      },
      "execution_count": null,
      "outputs": [
        {
          "output_type": "stream",
          "name": "stdout",
          "text": [
            "Accuracy of the model = 0.7792207792207793\n"
          ]
        }
      ]
    },
    {
      "cell_type": "code",
      "source": [],
      "metadata": {
        "id": "cYoZZMPI5qam"
      },
      "execution_count": null,
      "outputs": []
    }
  ]
}